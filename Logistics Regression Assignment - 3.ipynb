{
 "cells": [
  {
   "cell_type": "markdown",
   "metadata": {},
   "source": [
    "**Q1.** Explain the concept of precision and recall in the context of classification models."
   ]
  },
  {
   "cell_type": "markdown",
   "metadata": {},
   "source": [
    "Precision and recall are two important metrics used to evaluate the performance of classification models. These metrics are particularly relevant in situations where imbalanced class distribution exists, meaning one class significantly outnumbers the other."
   ]
  },
  {
   "cell_type": "markdown",
   "metadata": {},
   "source": [
    "**Precision:**\n",
    "\n",
    "Precision, also known as positive predictive value, measures the accuracy of the positive predictions made by a model. It is the ratio of true positive predictions to the total number of positive predictions made by the model.\n",
    "\n",
    "Precision is calculated using the formula:\n",
    "\n",
    "**Precision = True Positives / True Positives + False Positives**\n",
    "​\n",
    " \n",
    "High precision indicates that when the model predicts a positive outcome, it is likely to be correct. It is a crucial metric when the cost of false positives is high.\n",
    "Recall:\n",
    "\n",
    "Recall, also known as sensitivity or true positive rate, measures the ability of a model to capture all the relevant instances of the positive class. It is the ratio of true positive predictions to the total number of actual positive instances.\n",
    "\n",
    "Recall is calculated using the formula:\n",
    "\n",
    "**Recall = True Positives / True Positives + False Negatives**\n",
    "\n",
    " \n",
    "High recall indicates that the model is effective in identifying most of the positive instances. It is important when the cost of false negatives is high."
   ]
  },
  {
   "cell_type": "markdown",
   "metadata": {},
   "source": [
    "Precision focuses on the accuracy of positive predictions.\n",
    "\n",
    "Recall focuses on capturing all relevant positive instances.\n",
    "\n",
    "There is often a trade-off between precision and recall. Increasing one may lead to a decrease in the other. Therefore, the F1 score, which is the harmonic mean of precision and recall, is commonly used to balance these two metrics:\n",
    "\n",
    "**F1 = 2 × Precision × Recall / Precision + Recall**\n",
    "​\n"
   ]
  },
  {
   "cell_type": "markdown",
   "metadata": {},
   "source": [
    "**Q2.** What is the F1 score and how is it calculated? How is it different from precision and recall?"
   ]
  },
  {
   "cell_type": "markdown",
   "metadata": {},
   "source": [
    "The F1 score is a metric that combines precision and recall into a single value, providing a balance between the two. It is particularly useful in situations where there is an imbalance between the classes or when both false positives and false negatives need to be minimized. The F1 score is the harmonic mean of precision and recall.\n",
    "\n",
    "**F1 = 2 × Precision × Recall / Precision + Recall**\n",
    "\n",
    "The F1 score ranges from 0 to 1, where a higher value indicates a better balance between precision and recall.\n"
   ]
  },
  {
   "cell_type": "markdown",
   "metadata": {},
   "source": [
    "**Differences between Precision, Recall, and F1 Score:**\n",
    "\n",
    "**Focus:**\n",
    "\n",
    "Precision: Focuses on the accuracy of positive predictions.\n",
    "\n",
    "Recall: Focuses on capturing all relevant positive instances.\n",
    "\n",
    "F1 Score: Strikes a balance between precision and recall.\n",
    "\n",
    "**Trade-off:**\n",
    "\n",
    "There is often a trade-off between precision and recall. Increasing one may lead to a decrease in the other.\n",
    "\n",
    "The F1 score considers both precision and recall, providing a single metric that balances their trade-off.\n",
    "\n",
    "**Weighting:**\n",
    "\n",
    "Precision and recall are not weighted, treating false positives and false negatives equally.\n",
    "\n",
    "The F1 score considers false positives and false negatives with equal importance due to the harmonic mean."
   ]
  },
  {
   "cell_type": "markdown",
   "metadata": {},
   "source": [
    "**Q3.** What is ROC and AUC, and how are they used to evaluate the performance of classification models?"
   ]
  },
  {
   "cell_type": "markdown",
   "metadata": {},
   "source": [
    "\n",
    "**ROC (Receiver Operating Characteristic) Curve:**\n",
    "\n",
    "The ROC curve is a graphical representation of the performance of a classification model across different classification thresholds. It plots the True Positive Rate (TPR), also known as Sensitivity or Recall, against the False Positive Rate (FPR) at various threshold settings. The ROC curve helps visualize the trade-off between sensitivity and specificity.\n",
    "\n",
    "\n",
    "The ROC curve is useful for comparing and selecting models based on their ability to discriminate between classes. A model with a higher ROC curve (closer to the top-left corner) is considered better at distinguishing between positive and negative instances."
   ]
  },
  {
   "cell_type": "markdown",
   "metadata": {},
   "source": [
    "**AUC (Area Under the ROC Curve):**\n",
    "\n",
    "The AUC is a scalar value representing the area under the ROC curve. It provides a single, summarized metric for the overall performance of a classification model. The AUC ranges from 0 to 1, where a higher AUC indicates better performance.\n",
    "\n",
    "An AUC of 0.5 suggests the model performs no better than random chance.\n",
    "\n",
    "An AUC of 1.0 indicates perfect discrimination, where the model has a TPR of 1 and an FPR of 0 across all thresholds.\n",
    "\n",
    "The AUC is particularly useful when dealing with imbalanced datasets or when the costs of false positives and false negatives are different. It provides a comprehensive assessment of a model's ability to rank true positives higher than false positives."
   ]
  },
  {
   "cell_type": "markdown",
   "metadata": {},
   "source": [
    "**Interpretation:**\n",
    "\n",
    "A model with an AUC close to 1 is considered to have good discrimination power.\n",
    "\n",
    "An AUC of 0.5 suggests that the model is no better than random chance.\n",
    "\n",
    "**Key Points:**\n",
    "\n",
    "ROC Curve: Visualizes the trade-off between sensitivity and specificity at different classification thresholds.\n",
    "\n",
    "AUC: A scalar value representing the area under the ROC curve, providing a summarized measure of a model's overall performance."
   ]
  },
  {
   "cell_type": "markdown",
   "metadata": {},
   "source": [
    "**Q4.** How do you choose the best metric to evaluate the performance of a classification model?"
   ]
  },
  {
   "cell_type": "markdown",
   "metadata": {},
   "source": [
    "Choosing the best metric to evaluate the performance of a classification model depends on the specific goals, characteristics of the dataset, and the nature of the problem at hand. Different metrics emphasize different aspects of a model's performance, and the choice should align with the objectives and constraints of the application.\n"
   ]
  },
  {
   "cell_type": "markdown",
   "metadata": {},
   "source": [
    "\n",
    "**Nature of the Problem:**\n",
    "\n",
    "Binary Classification: For problems where there are only two classes, metrics like accuracy, precision, recall, F1 score, ROC curve, and AUC are commonly used.\n",
    "\n",
    "Multiclass Classification: In scenarios with more than two classes, metrics like accuracy, precision, recall, and F1 score can be extended to each class individually or computed as macro or micro averages.\n",
    "\n",
    "**Class Imbalance:**\n",
    "\n",
    "Imbalanced Datasets: In situations where one class significantly outnumbers the other, accuracy may not be a suitable metric because it can be dominated by the majority class.\n",
    "\n",
    "Metrics like precision, recall, and F1 score, which focus on the performance of the minority class, may be more informative.\n",
    "\n",
    "**Cost Considerations:**\n",
    "\n",
    "Asymmetric Costs: If the costs of false positives and false negatives are different, precision and recall become crucial. Choose a metric that aligns with the specific costs associated with misclassifications in your application.\n",
    "\n",
    "**Threshold Sensitivity:**\n",
    "\n",
    "Threshold Sensitivity: Some metrics, like precision and recall, are sensitive to the choice of classification threshold. Consider the impact of threshold selection on your model's performance and the trade-offs between precision and recall.\n",
    "\n",
    "**Model Goals:**\n",
    "\n",
    "Balancing Precision and Recall: The F1 score is a metric that balances precision and recall. Use it when there is a need to consider both false positives and false negatives.\n",
    "\n",
    "**ROC Curve and AUC:**\n",
    "\n",
    "Discrimination Ability: If discrimination ability is crucial and the model's output probabilities are available, consider using the ROC curve and AUC.\n",
    "\n",
    "**Interpretability:**\n",
    "\n",
    "Interpretability: Choose metrics that are easily interpretable and align with stakeholders' understanding of the problem. Accuracy is straightforward but may not be suitable for imbalanced datasets.\n",
    "\n",
    "**Domain-Specific Considerations:**\n",
    "\n",
    "Domain-Specific Metrics: In some cases, specific metrics may be more relevant based on the nature of the application. For example, in medical diagnosis, sensitivity (recall) may be more critical.\n",
    "\n",
    "**Validation and Cross-Validation:**\n",
    "\n",
    "Consistent Validation: Ensure that the chosen metric is consistent with the evaluation approach, whether it's based on a single validation set, cross-validation, or other methods."
   ]
  },
  {
   "cell_type": "markdown",
   "metadata": {},
   "source": [
    "**Q5.** Explain how logistic regression can be used for multiclass classification."
   ]
  },
  {
   "cell_type": "markdown",
   "metadata": {},
   "source": [
    "Logistic regression is inherently a binary classification algorithm, but there are techniques to extend it for multiclass classification problems. Two common approaches for using logistic regression in a multiclass setting are the one-vs-rest (OvR) and one-vs-one (OvO) strategies."
   ]
  },
  {
   "cell_type": "markdown",
   "metadata": {},
   "source": [
    "**One-vs-Rest (OvR) or One-vs-All:**\n",
    "\n",
    "In the OvR approach, also known as one-vs-all, a separate binary logistic regression model is trained for each class while treating the samples of that class as the positive class and all other samples as the negative class.\n",
    "\n",
    "Let's say there are k classes. For each class i, a logistic regression model is trained to predict whether an instance belongs to class i or not.\n",
    "\n",
    "During prediction, the class with the highest probability output by its logistic regression model is chosen as the final predicted class.\n",
    "This results in k binary classifiers, and the multiclass problem is decomposed into multiple binary classification subproblems.\n",
    "\n",
    "**One-vs-One (OvO):**\n",
    "\n",
    "In the OvO approach, also known as all-vs-all, a binary logistic regression model is trained for each pair of classes. If there are k classes, this results in **k×(k−1)/2** binary classifiers.\n",
    "\n",
    "During prediction, each binary classifier \"votes\" for one of the classes. The class with the most votes across all classifiers is chosen as the final predicted class.\n",
    "\n",
    "This approach can be computationally more intensive than OvR, but it can handle situations where the decision boundaries between classes are complex.\n",
    "\n",
    "**Training Process:**\n",
    "\n",
    "For both OvR and OvO, the logistic regression model is trained using the standard logistic regression objective, such as minimizing the logistic loss.\n",
    "\n",
    "The optimization process aims to find the weights (coefficients) for each feature for each binary classifier.\n",
    "\n",
    "**Prediction Process:**\n",
    "\n",
    "For OvR, each binary classifier outputs a probability for its associated class, and the class with the highest probability is chosen as the final prediction.\n",
    "\n",
    "For OvO, each binary classifier votes for one of the classes, and the class with the most votes is chosen."
   ]
  },
  {
   "cell_type": "markdown",
   "metadata": {},
   "source": [
    "**Q6.** Describe the steps involved in an end-to-end project for multiclass classification."
   ]
  },
  {
   "cell_type": "markdown",
   "metadata": {},
   "source": [
    "**Define the Problem:**\n",
    "\n",
    "Clearly understand and define the problem you are trying to solve with multiclass classification.\n",
    "\n",
    "Determine the objectives, and define the target classes you want to predict.\n",
    "\n",
    "**Collect and Prepare Data:**\n",
    "\n",
    "Gather a representative dataset that covers the different classes.\n",
    "\n",
    "Perform data exploration to understand the distribution of classes, identify missing values, and gain insights into the data.\n",
    "\n",
    "Preprocess the data, which may involve handling missing values, encoding categorical variables, and scaling numerical features.\n",
    "\n",
    "**Split the Data:**\n",
    "\n",
    "Divide the dataset into training and testing sets to evaluate the model's performance on unseen data.\n",
    "\n",
    "Optionally, create a validation set for tuning hyperparameters during the model training phase.\n",
    "\n",
    "**Feature Engineering:**\n",
    "\n",
    "Extract relevant features from the data.\n",
    "\n",
    "Transform or create new features that might enhance the model's performance.\n",
    "\n",
    "**Choose a Model:**\n",
    "\n",
    "Select a suitable multiclass classification algorithm based on the nature of the problem, the size of the dataset, and computational resources.\n",
    "\n",
    "Popular algorithms include logistic regression, decision trees, random forests, support vector machines, and neural networks.\n",
    "\n",
    "**Train the Model:**\n",
    "\n",
    "Train the selected model using the training dataset.\n",
    "\n",
    "Fine-tune hyperparameters using the validation set to improve performance.\n",
    "\n",
    "Monitor the model's training process, and evaluate its performance using appropriate metrics.\n",
    "\n",
    "**Evaluate Model Performance:**\n",
    "\n",
    "Use the testing dataset to evaluate the model's performance on unseen data.\n",
    "\n",
    "Metrics such as accuracy, precision, recall, F1 score, and confusion matrix can be used to assess model performance.\n",
    "\n",
    "**Hyperparameter Tuning:**\n",
    "\n",
    "Fine-tune the model by adjusting hyperparameters to improve its performance.\n",
    "\n",
    "Techniques like grid search or random search can be employed to find optimal hyperparameter values.\n",
    "\n",
    "**Model Interpretation (Optional):**\n",
    "\n",
    "Depending on the complexity of the model, interpretability might be important. Methods like feature importance analysis or model explainability techniques can be applied.\n",
    "\n",
    "**Deploy the Model:**\n",
    "\n",
    "Once satisfied with the model's performance, deploy it to a production environment.\n",
    "\n",
    "Integrate the model into the application or system where it will be used for predictions.\n",
    "\n",
    "**Monitor and Maintain:**\n",
    "\n",
    "Continuously monitor the model's performance in the production environment.\n",
    "\n",
    "Implement mechanisms to retrain the model periodically to account for changes in the data distribution.\n",
    "\n",
    "**Documentation:**\n",
    "\n",
    "Document the entire process, including data preprocessing steps, model architecture, hyperparameters, and any other relevant information."
   ]
  },
  {
   "cell_type": "markdown",
   "metadata": {},
   "source": [
    "**Q7.** What is model deployment and why is it important?"
   ]
  },
  {
   "cell_type": "markdown",
   "metadata": {},
   "source": [
    "**Model Deployment:**\n",
    "\n",
    "Model deployment refers to the process of integrating a machine learning model into a production environment, making it available for making predictions on new, unseen data. It involves deploying the trained model from a development or testing environment to a system where it can be accessed by end-users or other systems. The goal of deployment is to transition the model from a research or development stage to a practical and operational state where it can provide real-world value.\n",
    "\n",
    "**Importance of Model Deployment:**\n",
    "\n",
    "**Real-world Impact:**\n",
    "\n",
    "Deployment enables the model to make predictions on new, real-world data, thereby providing tangible value in solving the problem it was designed for.\n",
    "\n",
    "**Decision Support:**\n",
    "\n",
    "Deployed models can serve as decision support tools, assisting individuals or systems in making informed decisions based on the model's predictions.\n",
    "\n",
    "**Automation:**\n",
    "\n",
    "Automation of predictions allows for efficiency and scalability, as the model can process large volumes of data without manual intervention.\n",
    "\n",
    "**Integration with Systems:**\n",
    "\n",
    "Deployed models can be integrated seamlessly with existing systems, applications, or workflows, allowing for easy adoption and utilization.\n",
    "\n",
    "**User Accessibility:**\n",
    "\n",
    "Once deployed, the model becomes accessible to end-users or other systems, making it convenient to leverage the model's capabilities.\n",
    "\n",
    "**Feedback Loop:**\n",
    "\n",
    "Deployment establishes a feedback loop where the model's predictions can be continuously monitored and used to improve and update the model over time.\n",
    "\n",
    "**Scalability:**\n",
    "\n",
    "Deploying a model in a production environment allows for scalability, enabling it to handle predictions for a large number of instances.\n",
    "\n",
    "**Cost-Efficiency:**\n",
    "\n",
    "Automation and integration of models can lead to cost efficiencies by streamlining processes and reducing the need for manual intervention.\n",
    "\n",
    "**Timely Decision-Making:**\n",
    "\n",
    "In time-sensitive scenarios, deploying a model ensures that predictions are available promptly, facilitating timely decision-making.\n",
    "\n",
    "**Model Maintenance:**\n",
    "\n",
    "Once deployed, models may need periodic updates or maintenance. This process can be managed more effectively in a production environment.\n",
    "\n",
    "**Compliance and Governance:**\n",
    "\n",
    "Deployed models can be monitored for compliance with regulations, and governance practices can be implemented to ensure ethical and responsible use of the model."
   ]
  },
  {
   "cell_type": "markdown",
   "metadata": {},
   "source": [
    "**Q8.** Explain how multi-cloud platforms are used for model deployment."
   ]
  },
  {
   "cell_type": "markdown",
   "metadata": {},
   "source": [
    "Multi-cloud platforms involve the use of multiple cloud service providers to host and deploy applications, including machine learning models. Deploying models on multi-cloud platforms offers several advantages, such as increased flexibility, redundancy, and the ability to leverage specific services from different cloud providers."
   ]
  },
  {
   "cell_type": "markdown",
   "metadata": {},
   "source": [
    "**Vendor Neutrality:**\n",
    "\n",
    "Multi-cloud platforms allow organizations to avoid vendor lock-in by distributing their workloads across different cloud providers. This flexibility ensures that they can choose the best services and pricing models for their specific needs.\n",
    "\n",
    "**High Availability and Redundancy:**\n",
    "\n",
    "Deploying models on multiple cloud platforms enhances reliability and ensures high availability. If one cloud provider experiences downtime or issues, the workload can seamlessly shift to another provider, minimizing service disruptions.\n",
    "\n",
    "**Resource Scaling:**\n",
    "\n",
    "Multi-cloud platforms provide the ability to scale resources dynamically based on workload demands. Organizations can take advantage of the resources offered by different providers to meet performance requirements and handle varying workloads.\n",
    "\n",
    "**Geographical Distribution:**\n",
    "\n",
    "Models can be deployed across multiple regions offered by different cloud providers to reduce latency and improve the user experience for a global audience. This is particularly important for applications with users distributed in various geographic locations.\n",
    "\n",
    "**Optimization of Costs:**\n",
    "\n",
    "Organizations can optimize costs by selecting cloud providers that offer the most cost-effective solutions for specific services. This allows for cost flexibility and efficient resource allocation.\n",
    "\n",
    "**Service Specialization:**\n",
    "\n",
    "Different cloud providers offer specialized services for various tasks. For example, one provider might have advanced capabilities in machine learning, while another excels in data storage. Organizations can leverage the strengths of each provider for specific components of their machine learning workflow.\n",
    "\n",
    "**Data Governance and Compliance:**\n",
    "\n",
    "Multi-cloud deployments enable organizations to store and process data in compliance with regional regulations and data governance policies. This is crucial for industries with strict data residency requirements.\n",
    "\n",
    "**Security Enhancements:**\n",
    "\n",
    "Distributing workloads across multiple cloud providers can enhance security by reducing the impact of potential security breaches. It also allows organizations to choose providers with strong security measures for specific components of their infrastructure.\n",
    "\n",
    "**Hybrid Deployments:**\n",
    "\n",
    "Multi-cloud strategies often include hybrid deployments, where certain components are hosted on-premises or in private clouds, while others are deployed on public cloud platforms. This flexibility accommodates diverse infrastructure needs.\n",
    "\n",
    "**Containerization and Orchestration:**\n",
    "\n",
    "Containerization tools like Docker and orchestration frameworks like Kubernetes play a crucial role in multi-cloud deployments. They provide a standardized way to package and deploy applications, ensuring consistency across different cloud environments.\n",
    "\n",
    "**Monitoring and Management:**\n",
    "\n",
    "Multi-cloud management tools help organizations monitor and manage their deployments seamlessly across different cloud providers. These tools provide centralized control and visibility into the performance and health of deployed models."
   ]
  },
  {
   "cell_type": "markdown",
   "metadata": {},
   "source": [
    "**Q9.** Discuss the benefits and challenges of deploying machine learning models in a multi-cloud\n",
    "environment."
   ]
  },
  {
   "cell_type": "markdown",
   "metadata": {},
   "source": [
    "**Benefits of Deploying Machine Learning Models in a Multi-Cloud Environment:**\n",
    "\n",
    "**Flexibility and Vendor Neutrality:**\n",
    "\n",
    "Multi-cloud environments provide flexibility, allowing organizations to avoid vendor lock-in and choose the best services from different cloud providers based on their specific requirements.\n",
    "\n",
    "**High Availability and Redundancy:**\n",
    "\n",
    "Distributing machine learning models across multiple cloud providers enhances reliability. In the event of downtime or issues with one provider, the workload can seamlessly shift to another, ensuring high availability and minimizing service disruptions.\n",
    "\n",
    "**Optimized Costs:**\n",
    "\n",
    "Organizations can optimize costs by selecting cloud providers offering the most cost-effective solutions for specific services. This flexibility allows for efficient resource allocation and cost management.\n",
    "\n",
    "**Resource Scaling:**\n",
    "\n",
    "Multi-cloud environments enable dynamic scaling of resources based on workload demands. Organizations can take advantage of the resources offered by different providers to meet performance requirements and handle varying workloads.\n",
    "\n",
    "**Service Specialization:**\n",
    "\n",
    "Different cloud providers offer specialized services for various tasks. Organizations can leverage the strengths of each provider for specific components of their machine learning workflow, such as using a provider with advanced machine learning capabilities.\n",
    "\n",
    "**Geographical Distribution:**\n",
    "\n",
    "Deploying models in multiple regions provided by different cloud providers reduces latency and improves the user experience for a global audience.\n",
    "\n",
    "**Data Governance and Compliance:**\n",
    "\n",
    "Multi-cloud deployments allow organizations to store and process data in compliance with regional regulations and data governance policies, addressing concerns related to data residency.\n",
    "\n",
    "**Security Enhancements:**\n",
    "\n",
    "Distributing workloads across multiple cloud providers can enhance security by reducing the impact of potential security breaches. Organizations can choose providers with strong security measures for specific components of their infrastructure.\n",
    "\n",
    "**Hybrid Deployments:**\n",
    "\n",
    "Multi-cloud strategies often include hybrid deployments, where certain components are hosted on-premises or in private clouds. This flexibility accommodates diverse infrastructure needs and integrates seamlessly with existing systems.\n",
    "\n",
    "**Challenges of Deploying Machine Learning Models in a Multi-Cloud Environment:**\n",
    "\n",
    "**Complexity of Management:**\n",
    "\n",
    "Managing and orchestrating resources across multiple cloud providers can be complex. Organizations need robust management tools and strategies to ensure consistency and efficient operations.\n",
    "\n",
    "**Data Transfer Costs and Latency:**\n",
    "\n",
    "Transferring large volumes of data between different cloud providers can incur costs and introduce latency. Optimizing data transfer is essential to maintain performance and cost-effectiveness.\n",
    "\n",
    "**Interoperability and Compatibility:**\n",
    "\n",
    "Ensuring interoperability and compatibility between services and tools from different cloud providers can be challenging. It may require additional effort to integrate and maintain a cohesive workflow.\n",
    "\n",
    "**Security and Compliance Concerns:**\n",
    "\n",
    "Ensuring a consistent level of security and compliance across multiple cloud providers can be challenging. Organizations need to implement strong security measures and compliance practices for each provider.\n",
    "\n",
    "**Skill Requirements:**\n",
    "\n",
    "Managing a multi-cloud environment requires a diverse skill set. Organizations need personnel with expertise in the services and tools provided by different cloud vendors.\n",
    "\n",
    "**Vendor Lock-In Risks:**\n",
    "\n",
    "While multi-cloud environments aim to avoid vendor lock-in, there is a risk of becoming dependent on specific services or features of individual cloud providers, which can complicate migration.\n",
    "\n",
    "**Cost Management Complexity:**\n",
    "\n",
    "Optimizing costs in a multi-cloud environment requires careful monitoring and management. The complexity of cost models and pricing structures from different providers can make cost management challenging.\n",
    "\n",
    "**Data Consistency and Synchronization:**\n",
    "\n",
    "Maintaining data consistency and synchronization across multiple clouds can be complex. Organizations need robust data management strategies to ensure consistency in a distributed environment."
   ]
  }
 ],
 "metadata": {
  "language_info": {
   "name": "python"
  }
 },
 "nbformat": 4,
 "nbformat_minor": 2
}
